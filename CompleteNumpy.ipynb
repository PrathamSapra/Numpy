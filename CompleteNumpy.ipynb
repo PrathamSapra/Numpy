{
  "nbformat": 4,
  "nbformat_minor": 0,
  "metadata": {
    "colab": {
      "provenance": [],
      "authorship_tag": "ABX9TyPvE0znA+s+8aK9gl0bauq1",
      "include_colab_link": true
    },
    "kernelspec": {
      "name": "python3",
      "display_name": "Python 3"
    },
    "language_info": {
      "name": "python"
    }
  },
  "cells": [
    {
      "cell_type": "markdown",
      "metadata": {
        "id": "view-in-github",
        "colab_type": "text"
      },
      "source": [
        "<a href=\"https://colab.research.google.com/github/PrathamSapra/Numpy/blob/main/CompleteNumpy.ipynb\" target=\"_parent\"><img src=\"https://colab.research.google.com/assets/colab-badge.svg\" alt=\"Open In Colab\"/></a>"
      ]
    },
    {
      "cell_type": "markdown",
      "source": [
        "# Part 1"
      ],
      "metadata": {
        "id": "JhNsLkfoWE2-"
      }
    },
    {
      "cell_type": "code",
      "source": [
        "import numpy as np\n"
      ],
      "metadata": {
        "id": "n2BRs-w3TQTG"
      },
      "execution_count": 1,
      "outputs": []
    },
    {
      "cell_type": "code",
      "source": [
        "list = [1,3,4,5]\n",
        "print(list)"
      ],
      "metadata": {
        "colab": {
          "base_uri": "https://localhost:8080/"
        },
        "id": "6Nj4OlsxTXu9",
        "outputId": "6a4dc01d-5de2-41ae-e2d8-dcb1610ac397"
      },
      "execution_count": 2,
      "outputs": [
        {
          "output_type": "stream",
          "name": "stdout",
          "text": [
            "[1, 3, 4, 5]\n"
          ]
        }
      ]
    },
    {
      "cell_type": "markdown",
      "source": [
        "Advantages of Numpy Array over Lists"
      ],
      "metadata": {
        "id": "S3udGu9LTjjF"
      }
    },
    {
      "cell_type": "code",
      "source": [
        "print('1D array')\n",
        "\n",
        "a = np.array([1,2,3,4,5])\n",
        "print(a)\n",
        "\n",
        "print('2D Array')\n",
        "b = np.array([[1,2,3,4,5],\n",
        "             [6,7,8,9,10]])\n",
        "print(b)\n",
        "\n",
        "print('3D array')\n",
        "c = np.array([[[1,2,3,4,5],\n",
        "             [6,7,8,9,10],\n",
        "             [11,12,13,14,15]]])\n",
        "print(c)"
      ],
      "metadata": {
        "colab": {
          "base_uri": "https://localhost:8080/"
        },
        "id": "TPG0SG0VTq6j",
        "outputId": "05e5d5f6-b63d-4cdb-d77a-ab388a0e40cd"
      },
      "execution_count": 4,
      "outputs": [
        {
          "output_type": "stream",
          "name": "stdout",
          "text": [
            "1D array\n",
            "[1 2 3 4 5]\n",
            "2D Array\n",
            "[[ 1  2  3  4  5]\n",
            " [ 6  7  8  9 10]]\n",
            "3D array\n",
            "[[[ 1  2  3  4  5]\n",
            "  [ 6  7  8  9 10]\n",
            "  [11 12 13 14 15]]]\n"
          ]
        }
      ]
    },
    {
      "cell_type": "code",
      "source": [
        "type(a)"
      ],
      "metadata": {
        "colab": {
          "base_uri": "https://localhost:8080/"
        },
        "id": "07FGHMK8UtO2",
        "outputId": "6c02bbf7-f2a4-4eca-8dee-df9d61b3c74e"
      },
      "execution_count": 5,
      "outputs": [
        {
          "output_type": "execute_result",
          "data": {
            "text/plain": [
              "numpy.ndarray"
            ]
          },
          "metadata": {},
          "execution_count": 5
        }
      ]
    },
    {
      "cell_type": "code",
      "source": [
        "print(a.size)\n",
        "print(b.size)\n",
        "print(c.size)\n",
        "# Tells the number of elements in the array"
      ],
      "metadata": {
        "colab": {
          "base_uri": "https://localhost:8080/"
        },
        "id": "8xetADjQUx4e",
        "outputId": "bf43d546-38e3-4b5c-8b88-f3b5ba38061f"
      },
      "execution_count": 6,
      "outputs": [
        {
          "output_type": "stream",
          "name": "stdout",
          "text": [
            "5\n",
            "10\n",
            "15\n"
          ]
        }
      ]
    },
    {
      "cell_type": "code",
      "source": [
        "# shape = (rows,cols)\n",
        "\n",
        "print(a.shape)\n",
        "print(b.shape)\n",
        "print(c.shape)"
      ],
      "metadata": {
        "colab": {
          "base_uri": "https://localhost:8080/"
        },
        "id": "8N33NF_wU_vF",
        "outputId": "34cb74b0-62aa-468b-dc7b-39669866ee78"
      },
      "execution_count": null,
      "outputs": [
        {
          "output_type": "stream",
          "name": "stdout",
          "text": [
            "(5,)\n",
            "(2, 5)\n",
            "(1, 3, 5)\n"
          ]
        }
      ]
    },
    {
      "cell_type": "code",
      "source": [
        "# dtype  = Types of Data Present in the array\n",
        "\n",
        "print(a.dtype)\n",
        "print(b.dtype)\n",
        "print(c.dtype)"
      ],
      "metadata": {
        "colab": {
          "base_uri": "https://localhost:8080/"
        },
        "id": "b2QcYncdVagj",
        "outputId": "bd9dea59-a90e-4a76-f300-0f7ed1119fcb"
      },
      "execution_count": null,
      "outputs": [
        {
          "output_type": "stream",
          "name": "stdout",
          "text": [
            "int64\n",
            "int64\n",
            "int64\n"
          ]
        }
      ]
    },
    {
      "cell_type": "code",
      "source": [
        "d = np.array([[1,2,3,4.20,5],\n",
        "              [6.9,7,8,9,10],\n",
        "              [11,12,13,14,15]])\n",
        "\n",
        "print(d.dtype)"
      ],
      "metadata": {
        "colab": {
          "base_uri": "https://localhost:8080/"
        },
        "id": "FwCigdL5V7Ua",
        "outputId": "be2072af-3e25-47a6-8267-5fa725f091b4"
      },
      "execution_count": null,
      "outputs": [
        {
          "output_type": "stream",
          "name": "stdout",
          "text": [
            "float64\n"
          ]
        }
      ]
    },
    {
      "cell_type": "code",
      "source": [
        "d.transpose()\n",
        "\n",
        "# Inverts the rows and columns"
      ],
      "metadata": {
        "colab": {
          "base_uri": "https://localhost:8080/"
        },
        "id": "wKHUY1mxWjQ-",
        "outputId": "1f2638dd-26a8-442a-d79c-901f08d9a912"
      },
      "execution_count": null,
      "outputs": [
        {
          "output_type": "execute_result",
          "data": {
            "text/plain": [
              "array([[ 1. ,  6.9, 11. ],\n",
              "       [ 2. ,  7. , 12. ],\n",
              "       [ 3. ,  8. , 13. ],\n",
              "       [ 4.2,  9. , 14. ],\n",
              "       [ 5. , 10. , 15. ]])"
            ]
          },
          "metadata": {},
          "execution_count": 16
        }
      ]
    },
    {
      "cell_type": "markdown",
      "source": [
        "# Part 2"
      ],
      "metadata": {
        "id": "083zV4gfWz9B"
      }
    },
    {
      "cell_type": "markdown",
      "source": [
        "np.empty((row,cols), dtype)"
      ],
      "metadata": {
        "id": "SsksXOOiW3ap"
      }
    },
    {
      "cell_type": "code",
      "source": [
        "np.empty((4,4), dtype = float)"
      ],
      "metadata": {
        "colab": {
          "base_uri": "https://localhost:8080/"
        },
        "id": "tK2uOj0O0BnQ",
        "outputId": "03bf7524-bffc-4e41-932a-c07f2980c2ff"
      },
      "execution_count": 11,
      "outputs": [
        {
          "output_type": "execute_result",
          "data": {
            "text/plain": [
              "array([[ 4.82508809e-310,  0.00000000e+000,  6.88782071e-310,\n",
              "         6.88784179e-310],\n",
              "       [-1.61915572e-046,  6.88782071e-310,  6.88784179e-310,\n",
              "        -1.10274127e-011],\n",
              "       [ 6.88782072e-310,  6.88784179e-310,  1.98920411e+154,\n",
              "         6.88782068e-310],\n",
              "       [ 6.88784179e-310,  1.44175929e-034,  6.88782071e-310,\n",
              "         6.88784179e-310]])"
            ]
          },
          "metadata": {},
          "execution_count": 11
        }
      ]
    },
    {
      "cell_type": "markdown",
      "source": [
        "np.ones((rows, cols),dtype)"
      ],
      "metadata": {
        "id": "S74hqyJM0edm"
      }
    },
    {
      "cell_type": "code",
      "source": [
        "x= np.ones(6)\n",
        "x"
      ],
      "metadata": {
        "colab": {
          "base_uri": "https://localhost:8080/"
        },
        "id": "3WJDkUqN0olY",
        "outputId": "252c06f1-c8bf-4ac2-fefb-688fede69b3f"
      },
      "execution_count": 13,
      "outputs": [
        {
          "output_type": "execute_result",
          "data": {
            "text/plain": [
              "array([1., 1., 1., 1., 1., 1.])"
            ]
          },
          "metadata": {},
          "execution_count": 13
        }
      ]
    },
    {
      "cell_type": "code",
      "source": [
        "y = np.ones((3,5))\n",
        "y"
      ],
      "metadata": {
        "colab": {
          "base_uri": "https://localhost:8080/"
        },
        "id": "_PXary9q3tBs",
        "outputId": "4d4dd30b-4974-45ea-b11f-d0e257511283"
      },
      "execution_count": 14,
      "outputs": [
        {
          "output_type": "execute_result",
          "data": {
            "text/plain": [
              "array([[1., 1., 1., 1., 1.],\n",
              "       [1., 1., 1., 1., 1.],\n",
              "       [1., 1., 1., 1., 1.]])"
            ]
          },
          "metadata": {},
          "execution_count": 14
        }
      ]
    },
    {
      "cell_type": "code",
      "source": [
        "z = np.ones((3,5), dtype = int)\n",
        "z"
      ],
      "metadata": {
        "colab": {
          "base_uri": "https://localhost:8080/"
        },
        "id": "b8BIL8M031Y8",
        "outputId": "56c782c7-b1ac-43ac-c508-17077067d8ca"
      },
      "execution_count": 15,
      "outputs": [
        {
          "output_type": "execute_result",
          "data": {
            "text/plain": [
              "array([[1, 1, 1, 1, 1],\n",
              "       [1, 1, 1, 1, 1],\n",
              "       [1, 1, 1, 1, 1]])"
            ]
          },
          "metadata": {},
          "execution_count": 15
        }
      ]
    },
    {
      "cell_type": "markdown",
      "source": [
        "np.zeros((rows, cols),dtype)"
      ],
      "metadata": {
        "id": "6e8UPiqa396L"
      }
    },
    {
      "cell_type": "code",
      "source": [
        "x = np.zeros(4)\n",
        "x"
      ],
      "metadata": {
        "colab": {
          "base_uri": "https://localhost:8080/"
        },
        "id": "K-9RtYb84KWM",
        "outputId": "e6796e70-dfbf-4f00-fdc9-a41618323bbc"
      },
      "execution_count": 16,
      "outputs": [
        {
          "output_type": "execute_result",
          "data": {
            "text/plain": [
              "array([0., 0., 0., 0.])"
            ]
          },
          "metadata": {},
          "execution_count": 16
        }
      ]
    },
    {
      "cell_type": "code",
      "source": [
        "y = np.zeros((4,8))\n",
        "y"
      ],
      "metadata": {
        "colab": {
          "base_uri": "https://localhost:8080/"
        },
        "id": "XmUILBrH4Rts",
        "outputId": "a92ba9ce-3b8a-4e05-b234-22a24ab1986b"
      },
      "execution_count": 18,
      "outputs": [
        {
          "output_type": "execute_result",
          "data": {
            "text/plain": [
              "array([[0., 0., 0., 0., 0., 0., 0., 0.],\n",
              "       [0., 0., 0., 0., 0., 0., 0., 0.],\n",
              "       [0., 0., 0., 0., 0., 0., 0., 0.],\n",
              "       [0., 0., 0., 0., 0., 0., 0., 0.]])"
            ]
          },
          "metadata": {},
          "execution_count": 18
        }
      ]
    },
    {
      "cell_type": "code",
      "source": [
        "z = np.zeros((4,8), dtype = int)\n",
        "z"
      ],
      "metadata": {
        "colab": {
          "base_uri": "https://localhost:8080/"
        },
        "id": "TErK9XcK4rGu",
        "outputId": "e894ddf2-592d-4dd1-a3b3-6b36964266bb"
      },
      "execution_count": 19,
      "outputs": [
        {
          "output_type": "execute_result",
          "data": {
            "text/plain": [
              "array([[0, 0, 0, 0, 0, 0, 0, 0],\n",
              "       [0, 0, 0, 0, 0, 0, 0, 0],\n",
              "       [0, 0, 0, 0, 0, 0, 0, 0],\n",
              "       [0, 0, 0, 0, 0, 0, 0, 0]])"
            ]
          },
          "metadata": {},
          "execution_count": 19
        }
      ]
    },
    {
      "cell_type": "code",
      "source": [
        "z = np.zeros((4,8), dtype = str)\n",
        "z"
      ],
      "metadata": {
        "colab": {
          "base_uri": "https://localhost:8080/"
        },
        "id": "MTpbHqmg42Q1",
        "outputId": "e0d12a4b-f8a3-4d86-aa5a-b5b4a3cf6fae"
      },
      "execution_count": 20,
      "outputs": [
        {
          "output_type": "execute_result",
          "data": {
            "text/plain": [
              "array([['', '', '', '', '', '', '', ''],\n",
              "       ['', '', '', '', '', '', '', ''],\n",
              "       ['', '', '', '', '', '', '', ''],\n",
              "       ['', '', '', '', '', '', '', '']], dtype='<U1')"
            ]
          },
          "metadata": {},
          "execution_count": 20
        }
      ]
    },
    {
      "cell_type": "code",
      "source": [
        "z = np.ones((4,8), dtype = bool)\n",
        "z"
      ],
      "metadata": {
        "colab": {
          "base_uri": "https://localhost:8080/"
        },
        "id": "oMPMlsqx5Hd7",
        "outputId": "5a050a76-8c18-493c-d1f1-c32591db73fa"
      },
      "execution_count": 21,
      "outputs": [
        {
          "output_type": "execute_result",
          "data": {
            "text/plain": [
              "array([[ True,  True,  True,  True,  True,  True,  True,  True],\n",
              "       [ True,  True,  True,  True,  True,  True,  True,  True],\n",
              "       [ True,  True,  True,  True,  True,  True,  True,  True],\n",
              "       [ True,  True,  True,  True,  True,  True,  True,  True]])"
            ]
          },
          "metadata": {},
          "execution_count": 21
        }
      ]
    },
    {
      "cell_type": "markdown",
      "source": [
        "# Part 3"
      ],
      "metadata": {
        "id": "99nvYmad5kAW"
      }
    },
    {
      "cell_type": "code",
      "source": [],
      "metadata": {
        "id": "FQt8sVCI5q-t"
      },
      "execution_count": null,
      "outputs": []
    }
  ]
}